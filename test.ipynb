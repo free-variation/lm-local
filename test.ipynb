{
 "cells": [
  {
   "cell_type": "code",
   "execution_count": 1,
   "id": "249cb07e-d506-4c62-b376-af86bb9280a5",
   "metadata": {},
   "outputs": [
    {
     "name": "stderr",
     "output_type": "stream",
     "text": [
      "Special tokens have been added in the vocabulary, make sure the associated word embeddings are fine-tuned or trained.\n"
     ]
    },
    {
     "data": {
      "application/vnd.jupyter.widget-view+json": {
       "model_id": "64e526d3695b41a1a310a3e9fdf16f1d",
       "version_major": 2,
       "version_minor": 0
      },
      "text/plain": [
       "model.safetensors.index.json:   0%|          | 0.00/23.9k [00:00<?, ?B/s]"
      ]
     },
     "metadata": {},
     "output_type": "display_data"
    },
    {
     "data": {
      "application/vnd.jupyter.widget-view+json": {
       "model_id": "0dd33373332e4f91b6d5ec3bd628fd35",
       "version_major": 2,
       "version_minor": 0
      },
      "text/plain": [
       "Downloading shards:   0%|          | 0/4 [00:00<?, ?it/s]"
      ]
     },
     "metadata": {},
     "output_type": "display_data"
    },
    {
     "data": {
      "application/vnd.jupyter.widget-view+json": {
       "model_id": "59ea2419847e4ec3934c7fb8fcfad6cc",
       "version_major": 2,
       "version_minor": 0
      },
      "text/plain": [
       "model-00001-of-00004.safetensors:   0%|          | 0.00/4.98G [00:00<?, ?B/s]"
      ]
     },
     "metadata": {},
     "output_type": "display_data"
    },
    {
     "data": {
      "application/vnd.jupyter.widget-view+json": {
       "model_id": "bf9df493ff0e46afbcb39d71e98bde94",
       "version_major": 2,
       "version_minor": 0
      },
      "text/plain": [
       "model-00002-of-00004.safetensors:   0%|          | 0.00/5.00G [00:00<?, ?B/s]"
      ]
     },
     "metadata": {},
     "output_type": "display_data"
    },
    {
     "data": {
      "application/vnd.jupyter.widget-view+json": {
       "model_id": "ce171dbe7260443f8bb7e936bace30fc",
       "version_major": 2,
       "version_minor": 0
      },
      "text/plain": [
       "model-00003-of-00004.safetensors:   0%|          | 0.00/4.92G [00:00<?, ?B/s]"
      ]
     },
     "metadata": {},
     "output_type": "display_data"
    },
    {
     "data": {
      "application/vnd.jupyter.widget-view+json": {
       "model_id": "a6f4a14fb7d04e61b957717b48de72fa",
       "version_major": 2,
       "version_minor": 0
      },
      "text/plain": [
       "model-00004-of-00004.safetensors:   0%|          | 0.00/1.17G [00:00<?, ?B/s]"
      ]
     },
     "metadata": {},
     "output_type": "display_data"
    },
    {
     "data": {
      "application/vnd.jupyter.widget-view+json": {
       "model_id": "bcca800e674241e290e696c2f91ed25f",
       "version_major": 2,
       "version_minor": 0
      },
      "text/plain": [
       "Loading checkpoint shards:   0%|          | 0/4 [00:00<?, ?it/s]"
      ]
     },
     "metadata": {},
     "output_type": "display_data"
    },
    {
     "data": {
      "application/vnd.jupyter.widget-view+json": {
       "model_id": "b505b9c8110d413586efd52e650365e9",
       "version_major": 2,
       "version_minor": 0
      },
      "text/plain": [
       "generation_config.json:   0%|          | 0.00/187 [00:00<?, ?B/s]"
      ]
     },
     "metadata": {},
     "output_type": "display_data"
    }
   ],
   "source": [
    "from transformers import AutoTokenizer, AutoModelForCausalLM\n",
    "import torch\n",
    "\n",
    "model_id = \"meta-llama/Meta-Llama-3-8B-Instruct\"\n",
    "\n",
    "\n",
    "tokenizer = AutoTokenizer.from_pretrained(model_id)\n",
    "model = AutoModelForCausalLM.from_pretrained(\n",
    "    model_id,\n",
    "    torch_dtype=torch.bfloat16,\n",
    "    device_map=\"auto\"\n",
    ")\n",
    "\n",
    "\n",
    "def chat(message):\n",
    "    messages = [\n",
    "        {\"role\": \"system\", \"content\": \"You are a philosopher.\"},\n",
    "        {\"role\": \"user\", \"content\": message},\n",
    "    ]\n",
    "\n",
    "    input_ids = tokenizer.apply_chat_template(\n",
    "        messages,\n",
    "        add_generation_prompt=True,\n",
    "        return_tensors=\"pt\"\n",
    "    ).to(model.device)\n",
    "    \n",
    "        \n",
    "    terminators = [\n",
    "        tokenizer.eos_token_id,\n",
    "        tokenizer.convert_tokens_to_ids(\"<|eot_id|>\")\n",
    "    ]\n",
    "\n",
    "    outputs = model.generate(\n",
    "        input_ids,\n",
    "        max_new_tokens=4000,\n",
    "        eos_token_id=terminators,\n",
    "        do_sample=True,\n",
    "        temperature=0.1,\n",
    "        top_p=0.9,\n",
    "    )\n",
    "\n",
    "    response = outputs[0][input_ids.shape[-1]:]\n",
    "    return tokenizer.decode(response, skip_special_tokens=True)"
   ]
  },
  {
   "cell_type": "code",
   "execution_count": 2,
   "id": "96b26e83-c036-4b47-b40e-b48e0a3d48bf",
   "metadata": {},
   "outputs": [],
   "source": [
    "test_prompt = \"\"\"\n",
    "Please summarize each of the segments of the following English Language Arts lesson, provided in Markdown format.\n",
    "\n",
    "    Return your summaries in a markdown table, with two columns:\n",
    "     - lesson segment number\n",
    "     - summary of lesson segment\n",
    "\n",
    "     Do not add any extra commentary, introductory or conclusion language, and don't evaluate or discuss the lesson.\n",
    "    Return only the table of summaries, without an introduction like \"Here is the table ...\"\n",
    "\n",
    "     Here is the lesson:\n",
    "\n",
    "    # Lesson 7: Planning an Adventure Story\n",
    "##\n",
    "## Primary Focus of Lesson\n",
    "- Students will demonstrate understanding of descriptive language and literary devices in the text.\n",
    "- Students will plan their own adventure story.\n",
    "## Formative Assessment\n",
    "- Brainstorming Students complete a chart to frame the outline of their adventure stories.\n",
    "- Shape of a Story Students complete a chart to plot the action of their adventure stories.\n",
    "## Lesson Segment 7.1: Review the Chapter (10 min.)\n",
    "- Have students recall the significant events that happen during Chapter 4, “What I Heard in the Apple Barrel.”Answers may vary, but should include: As the Hispaniola nears the island, Jim overhears a conversation between Silver and some of the other men aboard that proves they cannot be trusted; Silver plans to lead a mutiny and take the treasure once the honest men find it and bring it on board the ship; Jim meets with the captain, the doctor, and the squire to tell them what he heard; they decide to let the dishonest men go ashore upon reaching the island in hopes that this will give Silver an opportunity to convince the men not to mutiny yet; Jim decides to sneak ashore in one of the boats.\n",
    "- Tell students they will reread and discuss excerpts from Chapter 4, “What I Heard in the Apple Barrel.”\n",
    "- Have students turn to the table of contents, locate the chapter, and then turn to the first page of the chapter.\n",
    "- Answers may vary, but should include: As the Hispaniola nears the island, Jim overhears a conversation between Silver and some of the other men aboard that proves they cannot be trusted; Silver plans to lead a mutiny and take the treasure once the honest men find it and bring it on board the ship; Jim meets with the captain, the doctor, and the squire to tell them what he heard; they decide to let the dishonest men go ashore upon reaching the island in hopes that this will give Silver an opportunity to convince the men not to mutiny yet; Jim decides to sneak ashore in one of the boats.\n",
    "## Lesson Segment 7.2: Close Reading Chapter 4 (25 min.)\n",
    "- Read the title of the chapter as a class, “What I Heard in the Apple Barrel.” As you read portions of the chapter, pause to explain or clarify the text at each point indicated.\n",
    "- Have one student read the third paragraph on page 39 aloud.Inferential. Remind students that often, casual language is used to portray characters. When the pirates speak to each other in Treasure Island, some of the dialogue includes shortened forms of words, slang, and incorrect grammar. Which sentences use casual language or slang in this paragraph? How can you rephrase these examples using proper English? Answers may vary, but students may select the sentence, “Skeleton Island, they calls it. It were a main hideout for pirates once.” A possible rephrasing could be, “They call it Skeleton Island. It was a main hideout for pirates once.” Or, “It is called Skeleton Island. It was once a main hideout for pirates.”Inferential. What effect does the use of this casual language have here? Answers may vary, but may include that casual language shows the difference between Long John Silver and Captain Smollett in terms of how they speak. It may suggest that the captain is well-educated and a proper gentleman, while Silver is less educated and is rougher around the edges.\n",
    "- Have one student read the second paragraph on page 40 aloud.Inferential. Why is Jim surprised by the coolness with which Silver declares his knowledge of the island? Jim knows Silver is lying now. He can’t believe Silver could be so calm while lying to the captain.\n",
    "- Answers may vary, but students may select the sentence, “Skeleton Island, they calls it. It were a main hideout for pirates once.” A possible rephrasing could be, “They call it Skeleton Island. It was a main hideout for pirates once.” Or, “It is called Skeleton Island. It was once a main hideout for pirates.”\n",
    "- Answers may vary, but may include that casual language shows the difference between Long John Silver and Captain Smollett in terms of how they speak. It may suggest that the captain is well-educated and a proper gentleman, while Silver is less educated and is rougher around the edges.\n",
    "- Jim knows Silver is lying now. He can’t believe Silver could be so calm while lying to the captain.\n",
    "- Jim means now that he knows Silver is dangerous and not trustworthy, he is afraid of Silver.\n",
    "- It means he could barely hide that he shakes with fear when Silver says his name.\n",
    "- Jim knows Silver is a dishonest man and that he is planning to mutiny. Jim is afraid of what Silver might do to him because Jim doesn’t trust Silver.\n",
    "- Read aloud the paragraph that begins, “Silver helped the captain . . . .” Inferential. Why does Silver help the captain anchor the Hispaniola?He is still acting helpful in hopes that the captain won’t notice he is planning a mutiny. Inferential. What effect does use of the idiom like the palm of his hand have, as opposed to the use of He knew the passage well?The figurative language is more descriptive and helps convey how well Silver knows the passage; he knows it very well, just like he knows his own hand very well.\n",
    "- Have students read the rest of page 41 silently.Inferential. We are in a real pickle is an idiom that means, “We are in a difficult situation.” How does the vocabulary word predicament relate to the meaning of this idiom? Predicament means “in a dangerous or difficult situation,” which is very similar to the idiom we are in a real pickle.Inferential. In the final paragraph, the simile, “He’ll bring ’em on board again, mild as lambs,” is used. How does this simile help the reader understand the expected behavior of the men after Silver talks to them?Lambs are very mild animals; if Silver can get the men to be mild as lambs, it means he will calm them down and they will no longer be ready to rebel.\n",
    "- Have students read page 42 silently.Inferential. What do you think the phrase taken into our confidence means? It means Jim, the squire, captain, and doctor trust the other honest crew members enough to tell them what is going on and trust that they will still be loyal after they learn about what is being planned.Inferential. What does the narrator mean when he says, “the men must have thought they would trip over treasure as soon as they landed”?The narrator means that the men think the treasure will be easy to find and plentiful.\n",
    "- He is still acting helpful in hopes that the captain won’t notice he is planning a mutiny.\n",
    "- The figurative language is more descriptive and helps convey how well Silver knows the passage; he knows it very well, just like he knows his own hand very well.\n",
    "- Predicament means “in a dangerous or difficult situation,” which is very similar to the idiom we are in a real pickle.\n",
    "- Lambs are very mild animals; if Silver can get the men to be mild as lambs, it means he will calm them down and they will no longer be ready to rebel.\n",
    "- It means Jim, the squire, captain, and doctor trust the other honest crew members enough to tell them what is going on and trust that they will still be loyal after they learn about what is being planned.\n",
    "- The narrator means that the men think the treasure will be easy to find and plentiful.\n",
    "## Lesson Segment 7.3: Chapter Discussion (5 min.)\n",
    "- Use the following question to discuss the chapter:Inferential. Think-Pair-Share. Why does Jim think it would be more useful for him to go ashore than to stay aboard the ship?He thinks it would be more useful to explore the island and perhaps keep an eye on what Silver and his men are doing. Also, because Silver does not leave very many men behind, Jim is confident that the men left behind on the ship will not try to do anything to the ship or the others on it.\n",
    "- Inferential. Think-Pair-Share. Why does Jim think it would be more useful for him to go ashore than to stay aboard the ship?He thinks it would be more useful to explore the island and perhaps keep an eye on what Silver and his men are doing. Also, because Silver does not leave very many men behind, Jim is confident that the men left behind on the ship will not try to do anything to the ship or the others on it.\n",
    "- He thinks it would be more useful to explore the island and perhaps keep an eye on what Silver and his men are doing. Also, because Silver does not leave very many men behind, Jim is confident that the men left behind on the ship will not try to do anything to the ship or the others on it.\n",
    "## Lesson Segment 7.4: Word Work: Duplicity (5 min.)\n",
    "- In the chapter, you read, “I had, by this time, such a fear of his cruelty and duplicity that I could scarcely conceal a shudder when he called out, ‘Ahoy there, Jim!’ and laid his hand on my shoulder.”\n",
    "- Say the word duplicity with me.\n",
    "- Duplicity means “dishonest behavior meant to trick someone.”\n",
    "- The spy used his duplicity to learn secrets from the enemies.\n",
    "- What are some other examples of duplicity? Be sure to use the word duplicity in your response. Ask two or three students to use the target word in a sentence. If necessary, guide and/or rephrase students’ responses to make complete sentences: “An example of duplicity is  .”\n",
    "- What part of speech is the word duplicity? noun\n",
    "- Be sure to use the word duplicity in your response. Ask two or three students to use the target word in a sentence. If necessary, guide and/or rephrase students’ responses to make complete sentences: “An example of duplicity is  .”\n",
    "- noun\n",
    "- Tell the students: “I will read several sentences. If the sentence I read is an example of duplicity, say, ‘That is duplicity.’ If the sentence I read is not an example of duplicity, say, ‘That is not duplicity.’”\n",
    "- The spy sneaked behind enemy lines to get information that helped the army win the war.That is duplicity.\n",
    "- The children told their parents the truth about what happened when the window broke. That is not duplicity.\n",
    "- Long John Silver lied to the captain about knowing where the island was located. That is duplicity.\n",
    "- My friend always waits for me before walking to the bus. That is not duplicity.\n",
    "- I know I can always count on my brother to help with my homework.That is not duplicity.\n",
    "- That is duplicity.\n",
    "- That is not duplicity.\n",
    "- That is duplicity.\n",
    "- That is not duplicity.\n",
    "- That is not duplicity.\n",
    "### Lesson 7: Planning an Adventure Story\n",
    "### Writing\n",
    "## Lesson Segment 7.5: Introduce Shape of a Story (15 min.)\n",
    "- Tell students that today they will begin planning their adventure story.\n",
    "- Explain that all stories have a shape or structure. Explain that you will use Treasure Island to model how a story is organized.\n",
    "- Direct students’ attention to the Shape of a Story Chart you prepared in advance. Ask students what the chart resembles.a mountain\n",
    "- Tell students the shape illustrates how suspense increases and decreases in a story. Explain that suspense is a feeling of excitement or nervousness caused by wondering what will happen. Explain that a story starts off flat, with minimal suspense, and gradually increases in suspense until the end, when the problem in the story is resolved.\n",
    "- Point to the “Introduction” line. Explain that the “Introduction” line is flat because it does not increase suspense. An introduction establishes the setting, introduces the main characters, and captures the reader’s attention.\n",
    "- Explain that, in most stories, the introduction is part of the beginning of the story.\n",
    "- a mountain\n",
    "- Several characters are introduced, including Jim Hawkins (the narrator), Billy Bones, and Black Dog. The setting is established—The Admiral Benbow Inn. The reader’s attention is captured by interesting characters and elements of danger, such as the sea chest and the sudden death of Billy Bones.\n",
    "- Explain that the second part of a story is the problem or conflict.\n",
    "- Have students identify the problem or conflict at the beginning of Treasure Island. The pirates and the honest men are searching for the same buried treasure. Students may also say the first problem is that Billy Bones is a hunted man.\n",
    "- Explain that the third part of a story is called Rising Action. Tell students that Rising Action occurs as the story becomes more exciting or the problem worsens.\n",
    "- Explain that Treasure Island is a relatively long story, so there are many points of Rising Action. Shorter stories, like the one they will write, will have fewer points of Rising Action.\n",
    "- Have students brainstorm some of the events in Treasure Island that might be Rising Action. Because students have read only through Chapter 4 at this point, be sure not to give away any plot twists. Events so far: Trelawney goes to Bristol to find a ship and crew; Jim gets to know Long John Silver and wonders if he is trustworthy; Captain Smollett doesn’t trust the crew; the Hispaniola sets sail; Jim overhears Long John Silver convincing some members of the crew to mutiny; Jim tells Trelawney and Livesey what he overheard, and they form a plan.\n",
    "- Explain that because they have not yet read the entire story, students are not yet able to identify parts of the story that align with the rest of the chart.\n",
    "- Tell students that all stories have a turning point or climax. This occurs when the problem is addressed. It is the most exciting point in the story.\n",
    "- Point out that students have not read far enough to reach the turning point or climax in Treasure Island, but they should look for the story’s climax in future lessons.\n",
    "- Explain that the resolution or end is the last part of a story and comes after the turning point or climax; in the end, the problem is resolved and the action calms.\n",
    "- The pirates and the honest men are searching for the same buried treasure. Students may also say the first problem is that Billy Bones is a hunted man.\n",
    "- Events so far: Trelawney goes to Bristol to find a ship and crew; Jim gets to know Long John Silver and wonders if he is trustworthy; Captain Smollett doesn’t trust the crew; the Hispaniola sets sail; Jim overhears Long John Silver convincing some members of the crew to mutiny; Jim tells Trelawney and Livesey what he overheard, and they form a plan.\n",
    "## Lesson Segment 7.6: Plan an Adventure Story (25 min.)\n",
    "- Remind students that they created a character and selected a setting in previous lessons and explain that now they will focus on the action or main events in the story.\n",
    "- Have students turn to Activity Page 7.2 and begin creating the shape of their adventure story.\n",
    "- Have students refer to the displayed Writing Prompt and Shape of a Story Chart as needed.\n",
    "- I like how the Rising Action moments you have chosen are logically sequenced.\n",
    "- It looks like you have identified a Rising Action moment for your climax. How could you place the moment you have identified at a turning point in the story?\n",
    "## Lesson Segment 7.7: Lesson Wrap-Up (5 min.)\n",
    "- Ask for student volunteers to share their examples of Rising Action.\n",
    "- Have students keep Activity Pages 7.1 and 7.2 for use in future lessons.\n",
    "\"\"\""
   ]
  },
  {
   "cell_type": "code",
   "execution_count": 3,
   "id": "47bb19c9-670e-4cf9-9c41-dce66623963a",
   "metadata": {},
   "outputs": [
    {
     "name": "stderr",
     "output_type": "stream",
     "text": [
      "The attention mask and the pad token id were not set. As a consequence, you may observe unexpected behavior. Please pass your input's `attention_mask` to obtain reliable results.\n",
      "Setting `pad_token_id` to `eos_token_id`:128001 for open-end generation.\n"
     ]
    },
    {
     "name": "stdout",
     "output_type": "stream",
     "text": [
      "CPU times: user 55min 4s, sys: 27.1 s, total: 55min 31s\n",
      "Wall time: 6min 57s\n"
     ]
    }
   ],
   "source": [
    "%%time\n",
    "out = chat(test_prompt)"
   ]
  },
  {
   "cell_type": "code",
   "execution_count": null,
   "id": "63e38d94-df04-45e4-a3ce-5c0112a41383",
   "metadata": {},
   "outputs": [],
   "source": []
  }
 ],
 "metadata": {
  "kernelspec": {
   "display_name": "Python 3 (ipykernel)",
   "language": "python",
   "name": "python3"
  },
  "language_info": {
   "codemirror_mode": {
    "name": "ipython",
    "version": 3
   },
   "file_extension": ".py",
   "mimetype": "text/x-python",
   "name": "python",
   "nbconvert_exporter": "python",
   "pygments_lexer": "ipython3",
   "version": "3.10.12"
  }
 },
 "nbformat": 4,
 "nbformat_minor": 5
}
